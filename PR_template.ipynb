{
 "cells": [
  {
   "cell_type": "code",
   "execution_count": 6,
   "metadata": {},
   "outputs": [
    {
     "name": "stdout",
     "output_type": "stream",
     "text": [
      "+------+--------------+---------+---+---+---+-------+-------------------+-------+\n",
      "| Rank |    Player    | Deck(s) | W | L | D |  Win% | Invites (non-OTS) |   PR  |\n",
      "+------+--------------+---------+---+---+---+-------+-------------------+-------+\n",
      "|  1   | Player_Name2 |   Deck  | 2 | 0 | 0 | 100.0 |         1         | 800.0 |\n",
      "|  2   | Player_Name1 |   Deck  | 1 | 0 | 0 | 100.0 |         1         | 700.0 |\n",
      "+------+--------------+---------+---+---+---+-------+-------------------+-------+\n"
     ]
    }
   ],
   "source": [
    "# the display option I chose, feel free to experiment with other displays\n",
    "from prettytable import PrettyTable\n",
    "x = PrettyTable()\n",
    "\n",
    "# player class\n",
    "class player:\n",
    "    def __init__(self, playerName, Wins, Losses, Draws, Decks, Invites):\n",
    "        self.playerName = playerName\n",
    "        self.Wins = Wins\n",
    "        self.Losses = Losses\n",
    "        self.Draws = Draws\n",
    "        self.Decks = Decks\n",
    "        self.Invites = Invites\n",
    "        \n",
    "    def get_winrate(self):\n",
    "        if (self.Wins+self.Losses > 0):\n",
    "            win_rate = self.Wins/(self.Wins+self.Losses)\n",
    "        else:\n",
    "            win_rate = 0\n",
    "        return win_rate\n",
    "    \n",
    "    def get_PR(self):\n",
    "        if (self.get_winrate() > 0):\n",
    "            PR =  (self.Wins*100-self.Losses*50+self.Draws*25+self.Invites*600)*(self.get_winrate())\n",
    "        elif(self.Invites > 0 and self.Losses == 0):\n",
    "            PR = self.Invites*600;\n",
    "        else:\n",
    "            PR = (self.Wins*100-self.Losses*50+self.Draws*25)\n",
    "        return PR\n",
    "\n",
    "# bubble sort for the ranking\n",
    "def player_sort(arr):\n",
    "    n = len(arr)\n",
    "    for i in range(n):\n",
    "        for j in range(0, n-i-1):\n",
    "            if arr[j].get_PR() < arr[j+1].get_PR():\n",
    "                arr[j], arr[j+1] = arr[j+1], arr[j]\n",
    "\n",
    "\n",
    "#adjustable based on what you are trying to rank\n",
    "x.field_names = ['Rank', 'Player','Deck(s)','W', 'L', 'D','Win%', 'Invites (non-OTS)','PR']\n",
    "Power_Rank = []\n",
    "\n",
    "#add more players as necessary\n",
    "player1 = player('Player_Name1', 1, 0, 0, 'Deck', 1)\n",
    "player2 = player('Player_Name2', 2, 0, 0, 'Deck', 1)\n",
    "\n",
    "\n",
    "#added to the array of players\n",
    "Power_Rank.append(player1)\n",
    "Power_Rank.append(player2)\n",
    "\n",
    "\n",
    "player_sort(Power_Rank)\n",
    "\n",
    "rank = 1\n",
    "for j in Power_Rank:\n",
    "    x.add_row([rank, j.playerName, j.Decks, j.Wins, j.Losses, j.Draws, j.get_winrate()*100, j.Invites, j.get_PR()])\n",
    "    rank = rank+1\n",
    "print (x)\n"
   ]
  },
  {
   "cell_type": "code",
   "execution_count": 1,
   "metadata": {},
   "outputs": [],
   "source": [
    "\n"
   ]
  },
  {
   "cell_type": "code",
   "execution_count": 2,
   "metadata": {},
   "outputs": [],
   "source": []
  },
  {
   "cell_type": "code",
   "execution_count": null,
   "metadata": {
    "collapsed": true
   },
   "outputs": [],
   "source": []
  }
 ],
 "metadata": {
  "kernelspec": {
   "display_name": "Python 3",
   "language": "python",
   "name": "python3"
  },
  "language_info": {
   "codemirror_mode": {
    "name": "ipython",
    "version": 3
   },
   "file_extension": ".py",
   "mimetype": "text/x-python",
   "name": "python",
   "nbconvert_exporter": "python",
   "pygments_lexer": "ipython3",
   "version": "3.7.6"
  }
 },
 "nbformat": 4,
 "nbformat_minor": 2
}
